{
 "cells": [
  {
   "cell_type": "code",
   "execution_count": null,
   "metadata": {},
   "outputs": [],
   "source": [
    "import pandas as pd\n",
    "import snowflake.connector\n",
    "\n",
    "# Connect to Snowflake\n",
    "conn = snowflake.connector.connect(\n",
    "    user='USER&',\n",
    "    password='Zandi2605!',\n",
    "    account='RGSJEQZ-MZ77447',\n",
    "    warehouse='WID_COMPUTE_WH',\n",
    "    database='WID_HACKATHON_PRIVATE_DATASETS',\n",
    "    schema='BRIGHT_DATA_DATASETS'\n",
    ")\n",
    "\n",
    "# Write your SQL query\n",
    "query = \"SELECT * FROM your_table\"\n",
    "\n",
    "# Execute the query and fetch the result\n",
    "cursor = conn.cursor()\n",
    "cursor.execute(query)\n",
    "result = cursor.fetchall()\n",
    "\n",
    "# Close Snowflake connection\n",
    "cursor.close()\n",
    "conn.close()\n",
    "\n",
    "# Convert result to DataFrame\n",
    "df = pd.DataFrame(result, columns=[col[0] for col in cursor.description])\n",
    "\n",
    "# Now you have your data in a Pandas DataFrame\n",
    "print(df.head())"
   ]
  }
 ],
 "metadata": {
  "language_info": {
   "name": "python"
  }
 },
 "nbformat": 4,
 "nbformat_minor": 2
}
