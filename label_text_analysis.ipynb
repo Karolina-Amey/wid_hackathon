{
 "cells": [
  {
   "cell_type": "markdown",
   "metadata": {},
   "source": [
    "# Label text analysis"
   ]
  },
  {
   "cell_type": "markdown",
   "metadata": {},
   "source": [
    "Analysing the frequency distribution of words in the detailed labels in the pass_results.csv file."
   ]
  },
  {
   "cell_type": "code",
   "execution_count": null,
   "metadata": {},
   "outputs": [],
   "source": [
    "# Import relevant libraries\n",
    "import pandas as pd\n",
    "\n",
    "import nltk\n",
    "from nltk.tokenize import word_tokenize\n",
    "from nltk.probability import FreqDist\n",
    "from nltk.corpus import stopwords\n",
    "from nltk.stem import PorterStemmer\n",
    "nltk.download('punkt')\n",
    "nltk.download('stopwords')\n",
    "\n",
    "import matplotlib.pyplot as plt"
   ]
  },
  {
   "cell_type": "code",
   "execution_count": null,
   "metadata": {},
   "outputs": [],
   "source": [
    "# Read CSV file into a DataFrame\n",
    "df = pd.read_csv(r'C:\\Users\\504631\\OneDrive - Amey plc\\Documents\\GitHub\\va-poc\\karolina_code\\csv_files\\pass_result.csv')"
   ]
  },
  {
   "cell_type": "code",
   "execution_count": null,
   "metadata": {},
   "outputs": [],
   "source": [
    "# Display information about dataset\n",
    "print(df.head())\n",
    "print(df.info())"
   ]
  },
  {
   "cell_type": "markdown",
   "metadata": {},
   "source": [
    "## Frequency Analysis"
   ]
  },
  {
   "cell_type": "code",
   "execution_count": null,
   "metadata": {},
   "outputs": [],
   "source": [
    "# Tokenize the labels\n",
    "tokens = [word_tokenize(label) for label in df['label']]\n",
    "\n",
    "# Flatten the list of tokens\n",
    "flat_tokens = [token for sublist in tokens for token in sublist]\n",
    "\n",
    "# Calculate word frequencies\n",
    "freq_dist = FreqDist(flat_tokens)\n",
    "\n",
    "# Print the most common words\n",
    "print(freq_dist.most_common(10))"
   ]
  },
  {
   "cell_type": "code",
   "execution_count": null,
   "metadata": {},
   "outputs": [],
   "source": [
    "# Plot the frequency distribution\n",
    "freq_dist.plot(30, cumulative=False)\n",
    "plt.show()"
   ]
  },
  {
   "cell_type": "code",
   "execution_count": null,
   "metadata": {},
   "outputs": [],
   "source": [
    "df_freq = pd.DataFrame(freq_dist.items(), columns=['word', 'frequency'])"
   ]
  },
  {
   "cell_type": "code",
   "execution_count": null,
   "metadata": {},
   "outputs": [],
   "source": [
    "# Display information about dataset\n",
    "print(df_freq.head())\n",
    "print(df_freq.info())"
   ]
  },
  {
   "cell_type": "code",
   "execution_count": null,
   "metadata": {},
   "outputs": [],
   "source": [
    "# Remove first row\n",
    "df_freq = df_freq.iloc[1: , :]\n",
    "\n",
    "# Sort by frequency\n",
    "df_freq = df_freq.sort_values(['frequency'], ascending=[False])"
   ]
  },
  {
   "cell_type": "code",
   "execution_count": null,
   "metadata": {},
   "outputs": [],
   "source": [
    "with pd.option_context('display.max_rows', None,\n",
    "                       'display.max_columns', None,\n",
    "                       'display.precision', 3,\n",
    "                       ):\n",
    "    print(df_freq)"
   ]
  },
  {
   "cell_type": "markdown",
   "metadata": {},
   "source": [
    "## Frequency Analysis using pre-processing"
   ]
  },
  {
   "cell_type": "markdown",
   "metadata": {},
   "source": [
    "Use pre-processing to remove stopwords and perform stemming"
   ]
  },
  {
   "cell_type": "code",
   "execution_count": null,
   "metadata": {},
   "outputs": [],
   "source": [
    "# Read CSV file into a DataFrame\n",
    "df2 = pd.read_csv(r'C:\\Users\\504631\\OneDrive - Amey plc\\Documents\\GitHub\\va-poc\\karolina_code\\csv_files\\pass_result.csv')"
   ]
  },
  {
   "cell_type": "code",
   "execution_count": null,
   "metadata": {},
   "outputs": [],
   "source": [
    "# Apply pre-processing to labels\n",
    "# Tokenize, remove stopwords, and perform stemming\n",
    "stop_words = set(stopwords.words('english'))\n",
    "ps = PorterStemmer()\n",
    "\n",
    "def preprocess_label(label):\n",
    "    words = word_tokenize(label)\n",
    "    words = [ps.stem(word.lower()) for word in words if word.isalpha() and word.lower() not in stop_words]\n",
    "    return ' '.join(words)\n",
    "\n",
    "# Apply the preprocessing function to the 'labels' column\n",
    "df2['normalized_label'] = df2['label'].apply(preprocess_label)\n",
    "\n",
    "# Calculate word frequencies for the normalized labels\n",
    "normalized_tokens = [word_tokenize(label) for label in df2['normalized_label']]\n",
    "flat_normalized_tokens = [token for sublist in normalized_tokens for token in sublist]\n",
    "freq_dist_normalized = FreqDist(flat_normalized_tokens)\n",
    "\n",
    "# Display the most common normalized words\n",
    "print(freq_dist_normalized.most_common(10))"
   ]
  },
  {
   "cell_type": "code",
   "execution_count": null,
   "metadata": {},
   "outputs": [],
   "source": [
    "# Plot the frequency distribution\n",
    "freq_dist_normalized.plot(30, cumulative=False)\n",
    "plt.show()"
   ]
  },
  {
   "cell_type": "code",
   "execution_count": null,
   "metadata": {},
   "outputs": [],
   "source": [
    "# Create a DataFrame from the frequency distribution\n",
    "labels_freq_df = pd.DataFrame(freq_dist_normalized.items(), columns=['Label', 'Frequency'])\n",
    "\n",
    "# Sort the DataFrame by frequency in descending order\n",
    "labels_freq_df = labels_freq_df.sort_values(by='Frequency', ascending=False)\n",
    "\n",
    "# Increase the maximum number of rows and columns to display\n",
    "pd.set_option('display.max_rows', None)\n",
    "pd.set_option('display.max_columns', None)\n",
    "\n",
    "# Display the DataFrame\n",
    "print(labels_freq_df)"
   ]
  }
 ],
 "metadata": {
  "kernelspec": {
   "display_name": "Python 3",
   "language": "python",
   "name": "python3"
  },
  "language_info": {
   "codemirror_mode": {
    "name": "ipython",
    "version": 3
   },
   "file_extension": ".py",
   "mimetype": "text/x-python",
   "name": "python",
   "nbconvert_exporter": "python",
   "pygments_lexer": "ipython3",
   "version": "3.11.7"
  }
 },
 "nbformat": 4,
 "nbformat_minor": 2
}
